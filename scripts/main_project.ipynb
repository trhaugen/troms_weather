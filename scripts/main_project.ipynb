{
 "cells": [
  {
   "cell_type": "markdown",
   "metadata": {},
   "source": [
    "# Weather in Tromsø over time\n",
    "\n",
    "## Hypothesis\n",
    "\n",
    "In this project we will look at the historical weather data gathered in Tromsø and see if the winters and summers have changed in the last years compared to earlier trends. We will look at snow-depth, temperature, precipitation and other factors if there has been a changing trend and if one can see the effects of climate change in Tromsø. "
   ]
  },
  {
   "cell_type": "markdown",
   "metadata": {},
   "source": [
    "## Requirements"
   ]
  },
  {
   "cell_type": "code",
   "execution_count": 1,
   "metadata": {},
   "outputs": [],
   "source": [
    "import pandas as pd \n",
    "import geopandas as gpd\n",
    "import numpy as np\n",
    "import matplotlib.pyplot as plt\n",
    "import matplotlib.dates as mdates\n",
    "import altair as alt \n",
    "import reading_data as rd\n",
    "\n"
   ]
  },
  {
   "cell_type": "code",
   "execution_count": 89,
   "metadata": {},
   "outputs": [
    {
     "data": {
      "text/plain": [
       "<module 'reading_data' from '/Users/tha222/git-folder/troms_weather/scripts/reading_data.py'>"
      ]
     },
     "execution_count": 89,
     "metadata": {},
     "output_type": "execute_result"
    }
   ],
   "source": [
    "#Midlertidig løsning for å oppdatere reading_data\n",
    "import importlib\n",
    "importlib.reload(rd)\n"
   ]
  },
  {
   "cell_type": "code",
   "execution_count": 4,
   "metadata": {},
   "outputs": [
    {
     "data": {
      "text/plain": [
       "DataTransformerRegistry.enable('default')"
      ]
     },
     "execution_count": 4,
     "metadata": {},
     "output_type": "execute_result"
    }
   ],
   "source": [
    "client_id = '../ignore_me/client_id.txt'\n",
    "client_secret = '../ignore_me/client_secret.txt'\n",
    "alt.data_transformers.disable_max_rows()\n"
   ]
  },
  {
   "cell_type": "markdown",
   "metadata": {},
   "source": [
    "## Finding the weather stations of Tromsø\n",
    "\n",
    "Where ate the stations we have? And how old are they? "
   ]
  },
  {
   "cell_type": "code",
   "execution_count": null,
   "metadata": {},
   "outputs": [],
   "source": [
    "station_id = pd.DataFrame(rd.FindingStations(client_id, client_secret\n",
    "                                             ).get_sensors(69.95, 18.95, 30, \"TROMSØ\"),\n",
    "                                             columns=['station_id', 'name'])\n",
    "\n",
    "start_date, coor, names = [], [], []\n",
    "for station in station_id['station_id']:\n",
    "    location = rd.ReadingData(station, client_id, client_secret)\n",
    "    start, end, coordinates, name = location.get_station_info()\n",
    "    start_date.append(start)\n",
    "    coor.append(coordinates)\n",
    "    names.append(name)\n"
   ]
  },
  {
   "cell_type": "code",
   "execution_count": null,
   "metadata": {},
   "outputs": [],
   "source": [
    "station_id['date'] = start_date\n",
    "station_id['year'] = pd.to_datetime(station_id['date']).dt.strftime('%Y')\n",
    "station_id['lon'] = [cor[0] for cor in coor]\n",
    "station_id['lat'] = [cor[1] for cor in coor]\n",
    "station_id['name'] = names\n",
    "station_id.sort_values(by='date', inplace=True)\n"
   ]
  },
  {
   "cell_type": "code",
   "execution_count": null,
   "metadata": {},
   "outputs": [],
   "source": [
    "station_id.reset_index(drop=True, inplace=True)\n",
    "station_id\n"
   ]
  },
  {
   "cell_type": "code",
   "execution_count": null,
   "metadata": {},
   "outputs": [],
   "source": [
    "station_coordinates = gpd.GeoDataFrame(station_id, \n",
    "                                       geometry=gpd.points_from_xy(\n",
    "                                           station_id.lon, station_id.lat))\n",
    "station_coordinates.crs = 'EPSG:4326'\n",
    "station_coordinates.head(20)\n"
   ]
  },
  {
   "cell_type": "code",
   "execution_count": null,
   "metadata": {},
   "outputs": [],
   "source": [
    "gdf = gpd.read_file('../data/Kommuner-L.geojson')\n",
    "hoyde = gpd.read_file('../data/Basisdata_55_Troms_25833_N1000Hoyde_GML.gml', \n",
    "                      layer='Høydekurve')\n",
    "hoyde = hoyde.to_crs(gdf.crs)\n",
    "tromso = gdf[gdf['name'] == 'Tromsø']\n",
    "clipped_hoyde = gpd.clip(hoyde, tromso)\n",
    "fig, ax = plt.subplots(figsize=(10, 10))\n",
    "tromso.plot(ax=ax, color=\"linen\", edgecolor=\"grey\")\n",
    "clipped_hoyde.plot(ax=ax, color=\"xkcd:taupe\", markersize=0.1, alpha=0.5)\n",
    "station_coordinates.plot(ax=ax, column='year', cmap='Accent', marker='o', legend=True, \n",
    "          alpha=0.7, edgecolor='indigo')\n",
    "ax.set_xlim(18.1,19.7)\n",
    "ax.set_ylim(69.52,70.05)\n",
    "plt.show()\n"
   ]
  },
  {
   "cell_type": "code",
   "execution_count": null,
   "metadata": {},
   "outputs": [],
   "source": [
    "chosen_stations = station_coordinates.iloc[[0, 1, 3, 4, 6]]\n",
    "chosen_stations\n"
   ]
  },
  {
   "cell_type": "code",
   "execution_count": null,
   "metadata": {},
   "outputs": [],
   "source": [
    "fig, ax = plt.subplots(figsize=(10, 10))\n",
    "tromso.plot(ax=ax, color=\"linen\", edgecolor=\"grey\")\n",
    "clipped_hoyde.plot(ax=ax, color=\"xkcd:taupe\", markersize=0.1, alpha=0.5)\n",
    "station_coordinates.plot(ax=ax, color='lightgrey', marker='o', legend=True, \n",
    "          alpha=0.7, edgecolor='indigo')\n",
    "chosen_stations.plot(ax=ax, color='Blue', marker='o', legend=True)\n",
    "ax.set_xlim(18.1,19.7)\n",
    "ax.set_ylim(69.52,70.05)\n",
    "plt.show()\n"
   ]
  },
  {
   "cell_type": "markdown",
   "metadata": {},
   "source": [
    "## Temperature over the years\n",
    "\n",
    "How has temperature changed over time? \n",
    "- Average temperature for each season \n",
    "- Extreme temperature now and then \n",
    "- Daily temperature range over time for summer and winter \n",
    "- Local differences in temperature \n"
   ]
  },
  {
   "cell_type": "markdown",
   "metadata": {},
   "source": [
    "### MIDLERTIDIG START\n",
    "\n",
    "Fokuserer på disse stasjonene:\n",
    "- Kjølen\n",
    "- Måsvik\n",
    "- Værvarslinka\n",
    "- Tromsø LH\n",
    "- Oldervik \n",
    "  \n",
    "for en blanding av fjell, by, mot hav og fjord\n",
    "\n",
    "Vil bruke Værvarslinga for å se på large scale climate trends og de over til å se etter local environmental influences. \n",
    "\n",
    "\n",
    "### MIDLERTIDIG OVER"
   ]
  },
  {
   "cell_type": "code",
   "execution_count": 5,
   "metadata": {},
   "outputs": [
    {
     "data": {
      "text/html": [
       "<div>\n",
       "<style scoped>\n",
       "    .dataframe tbody tr th:only-of-type {\n",
       "        vertical-align: middle;\n",
       "    }\n",
       "\n",
       "    .dataframe tbody tr th {\n",
       "        vertical-align: top;\n",
       "    }\n",
       "\n",
       "    .dataframe thead th {\n",
       "        text-align: right;\n",
       "    }\n",
       "</style>\n",
       "<table border=\"1\" class=\"dataframe\">\n",
       "  <thead>\n",
       "    <tr style=\"text-align: right;\">\n",
       "      <th></th>\n",
       "      <th>year</th>\n",
       "      <th>min</th>\n",
       "      <th>max</th>\n",
       "      <th>mean</th>\n",
       "    </tr>\n",
       "  </thead>\n",
       "  <tbody>\n",
       "    <tr>\n",
       "      <th>0</th>\n",
       "      <td>1921</td>\n",
       "      <td>-12.8</td>\n",
       "      <td>NaN</td>\n",
       "      <td>2.4</td>\n",
       "    </tr>\n",
       "    <tr>\n",
       "      <th>1</th>\n",
       "      <td>1922</td>\n",
       "      <td>-12.7</td>\n",
       "      <td>NaN</td>\n",
       "      <td>3.0</td>\n",
       "    </tr>\n",
       "    <tr>\n",
       "      <th>2</th>\n",
       "      <td>1923</td>\n",
       "      <td>-13.8</td>\n",
       "      <td>NaN</td>\n",
       "      <td>2.1</td>\n",
       "    </tr>\n",
       "    <tr>\n",
       "      <th>3</th>\n",
       "      <td>1924</td>\n",
       "      <td>-14.3</td>\n",
       "      <td>NaN</td>\n",
       "      <td>2.8</td>\n",
       "    </tr>\n",
       "    <tr>\n",
       "      <th>4</th>\n",
       "      <td>1925</td>\n",
       "      <td>-14.3</td>\n",
       "      <td>24.4</td>\n",
       "      <td>2.9</td>\n",
       "    </tr>\n",
       "  </tbody>\n",
       "</table>\n",
       "</div>"
      ],
      "text/plain": [
       "   year   min   max  mean\n",
       "0  1921 -12.8   NaN   2.4\n",
       "1  1922 -12.7   NaN   3.0\n",
       "2  1923 -13.8   NaN   2.1\n",
       "3  1924 -14.3   NaN   2.8\n",
       "4  1925 -14.3  24.4   2.9"
      ]
     },
     "execution_count": 5,
     "metadata": {},
     "output_type": "execute_result"
    }
   ],
   "source": [
    "vervarslinga = rd.ReadingData('SN90450', client_id, client_secret)\n",
    "temperature_yearly = vervarslinga.get_temperature_yearly('1885','2024')\n",
    "temperature_yearly.head()\n"
   ]
  },
  {
   "cell_type": "code",
   "execution_count": null,
   "metadata": {},
   "outputs": [],
   "source": [
    "plt.figure(figsize=(8, 5))\n",
    "plt.plot(temperature_yearly['year'], temperature_yearly['mean'], linestyle='-', color='green')\n",
    "plt.fill_between(temperature_yearly['year'], temperature_yearly['min'], temperature_yearly['max'], color='green', alpha=0.2)\n",
    "\n",
    "# Labels and title\n",
    "plt.xlabel(\"Year\")\n",
    "plt.ylabel(\"Temperature (°C)\")\n",
    "plt.legend()\n",
    "plt.grid(True)\n",
    "plt.show()\n"
   ]
  },
  {
   "cell_type": "code",
   "execution_count": null,
   "metadata": {},
   "outputs": [],
   "source": [
    "#Getting all the temperature data for the spring\n",
    "spring_temperature = pd.DataFrame()\n",
    "for year in range(1925, 2025):\n",
    "    spring_temperature = pd.concat([spring_temperature, vervarslinga.get_temperature_daily(str(year)+'-03-01', str(year)+'-05-31')])\n"
   ]
  },
  {
   "cell_type": "code",
   "execution_count": null,
   "metadata": {},
   "outputs": [],
   "source": [
    "#Getting all the summer data\n",
    "summer_temperature = pd.DataFrame()\n",
    "for year in range(1925, 2025):\n",
    "    summer_temperature = pd.concat([summer_temperature, vervarslinga.get_temperature_daily(str(year)+'-06-01', str(year)+'-08-31')])\n"
   ]
  },
  {
   "cell_type": "code",
   "execution_count": null,
   "metadata": {},
   "outputs": [],
   "source": [
    "#Getting all the atumn data\n",
    "atumn_temperature = pd.DataFrame()\n",
    "for year in range(1925, 2025):\n",
    "    atumn_temperature = pd.concat([atumn_temperature, vervarslinga.get_temperature_daily(str(year)+'-09-01', str(year)+'-11-30')])\n"
   ]
  },
  {
   "cell_type": "code",
   "execution_count": null,
   "metadata": {},
   "outputs": [],
   "source": [
    "#Getting all the winter data\n",
    "winter_temperature = pd.DataFrame()\n",
    "for year in range(1925, 2025):\n",
    "    winter_temperature = pd.concat([winter_temperature, vervarslinga.get_temperature_daily(str(year)+'-12-01', str(year+1)+'-02-28')])\n"
   ]
  },
  {
   "cell_type": "markdown",
   "metadata": {},
   "source": [
    "Takes like 4 mins to do, obs obs"
   ]
  },
  {
   "cell_type": "code",
   "execution_count": null,
   "metadata": {},
   "outputs": [],
   "source": [
    "for frames in [spring_temperature, summer_temperature, atumn_temperature, winter_temperature]:\n",
    "    frames['date'] = pd.to_datetime(frames['date'])\n",
    "    frames['year'] = frames['date'].dt.year\n",
    "    frames['month_day'] = frames['date'].dt.strftime(\"%m-%d\")\n"
   ]
  },
  {
   "cell_type": "code",
   "execution_count": null,
   "metadata": {},
   "outputs": [],
   "source": [
    "\n",
    "summer_heatmap = alt.Chart(summer_temperature).mark_rect().encode(\n",
    "    x=alt.X(\"year:O\", title=\"Year\", axis=alt.Axis(labelAngle=-45)),  # Convert to ordinal for better visualization\n",
    "    y=alt.Y(\"month_day:N\", title=\"Day of Summer\", sort=None),  # Use Month-Day format\n",
    "    color=alt.Color(\"temperature:Q\", scale=alt.Scale(scheme=\"reds\", domain=[10, 25]), title=\"Avg Temp (°C)\"),\n",
    "    tooltip=[\"year\", \"month_day\", \"temperature\"]\n",
    ").properties(\n",
    "    width=900,\n",
    "    height=500,\n",
    "    title=\"Summer Temperature Heatmap Over 99 Years\"\n",
    ")\n",
    "\n",
    "summer_heatmap.show()\n"
   ]
  },
  {
   "cell_type": "code",
   "execution_count": null,
   "metadata": {},
   "outputs": [],
   "source": [
    "winter_heatmap = alt.Chart(winter_temperature).mark_rect().encode(    \n",
    "    x=alt.X(\"year:O\", title=\"Year\", axis=alt.Axis(labelAngle=-45)),  # Convert to ordinal for better visualization\n",
    "    y=alt.Y(\"month_day:N\", title=\"Day of Summer\", sort=None),  # Use Month-Day format\n",
    "    color=alt.Color(\"temperature:Q\", scale=alt.Scale(scheme=\"blues\", domain=[0, -20]), title=\"Avg Temp (°C)\"),\n",
    "    tooltip=[\"year\", \"month_day\", \"temperature\"]\n",
    ").properties(\n",
    "    width=900,\n",
    "    height=500,\n",
    "    title=\"Winter Temperature Heatmap Over 99 Years\"\n",
    ")\n",
    "\n",
    "winter_heatmap.show()\n",
    "    "
   ]
  },
  {
   "cell_type": "code",
   "execution_count": 6,
   "metadata": {},
   "outputs": [
    {
     "data": {
      "text/html": [
       "<div>\n",
       "<style scoped>\n",
       "    .dataframe tbody tr th:only-of-type {\n",
       "        vertical-align: middle;\n",
       "    }\n",
       "\n",
       "    .dataframe tbody tr th {\n",
       "        vertical-align: top;\n",
       "    }\n",
       "\n",
       "    .dataframe thead th {\n",
       "        text-align: right;\n",
       "    }\n",
       "</style>\n",
       "<table border=\"1\" class=\"dataframe\">\n",
       "  <thead>\n",
       "    <tr style=\"text-align: right;\">\n",
       "      <th></th>\n",
       "      <th>year</th>\n",
       "      <th>month</th>\n",
       "      <th>anomaly</th>\n",
       "      <th>year_month</th>\n",
       "    </tr>\n",
       "  </thead>\n",
       "  <tbody>\n",
       "    <tr>\n",
       "      <th>0</th>\n",
       "      <td>1925</td>\n",
       "      <td>3</td>\n",
       "      <td>-0.6</td>\n",
       "      <td>1925-03</td>\n",
       "    </tr>\n",
       "    <tr>\n",
       "      <th>1</th>\n",
       "      <td>1925</td>\n",
       "      <td>6</td>\n",
       "      <td>1.0</td>\n",
       "      <td>1925-06</td>\n",
       "    </tr>\n",
       "    <tr>\n",
       "      <th>2</th>\n",
       "      <td>1925</td>\n",
       "      <td>9</td>\n",
       "      <td>-0.8</td>\n",
       "      <td>1925-09</td>\n",
       "    </tr>\n",
       "    <tr>\n",
       "      <th>3</th>\n",
       "      <td>1925</td>\n",
       "      <td>12</td>\n",
       "      <td>-0.1</td>\n",
       "      <td>1925-12</td>\n",
       "    </tr>\n",
       "    <tr>\n",
       "      <th>4</th>\n",
       "      <td>1926</td>\n",
       "      <td>3</td>\n",
       "      <td>-0.4</td>\n",
       "      <td>1926-03</td>\n",
       "    </tr>\n",
       "  </tbody>\n",
       "</table>\n",
       "</div>"
      ],
      "text/plain": [
       "   year  month  anomaly year_month\n",
       "0  1925      3     -0.6    1925-03\n",
       "1  1925      6      1.0    1925-06\n",
       "2  1925      9     -0.8    1925-09\n",
       "3  1925     12     -0.1    1925-12\n",
       "4  1926      3     -0.4    1926-03"
      ]
     },
     "execution_count": 6,
     "metadata": {},
     "output_type": "execute_result"
    }
   ],
   "source": [
    "amomaly_temperature = vervarslinga.get_temperature_anomaly('1925', '2024')\n",
    "amomaly_temperature.head()\n"
   ]
  },
  {
   "cell_type": "code",
   "execution_count": 48,
   "metadata": {},
   "outputs": [
    {
     "data": {
      "text/html": [
       "\n",
       "<style>\n",
       "  #altair-viz-95a5b5c5ca1740e1865d42b9e2fdaa5b.vega-embed {\n",
       "    width: 100%;\n",
       "    display: flex;\n",
       "  }\n",
       "\n",
       "  #altair-viz-95a5b5c5ca1740e1865d42b9e2fdaa5b.vega-embed details,\n",
       "  #altair-viz-95a5b5c5ca1740e1865d42b9e2fdaa5b.vega-embed details summary {\n",
       "    position: relative;\n",
       "  }\n",
       "</style>\n",
       "<div id=\"altair-viz-95a5b5c5ca1740e1865d42b9e2fdaa5b\"></div>\n",
       "<script type=\"text/javascript\">\n",
       "  var VEGA_DEBUG = (typeof VEGA_DEBUG == \"undefined\") ? {} : VEGA_DEBUG;\n",
       "  (function(spec, embedOpt){\n",
       "    let outputDiv = document.currentScript.previousElementSibling;\n",
       "    if (outputDiv.id !== \"altair-viz-95a5b5c5ca1740e1865d42b9e2fdaa5b\") {\n",
       "      outputDiv = document.getElementById(\"altair-viz-95a5b5c5ca1740e1865d42b9e2fdaa5b\");\n",
       "    }\n",
       "\n",
       "    const paths = {\n",
       "      \"vega\": \"https://cdn.jsdelivr.net/npm/vega@5?noext\",\n",
       "      \"vega-lib\": \"https://cdn.jsdelivr.net/npm/vega-lib?noext\",\n",
       "      \"vega-lite\": \"https://cdn.jsdelivr.net/npm/vega-lite@5.20.1?noext\",\n",
       "      \"vega-embed\": \"https://cdn.jsdelivr.net/npm/vega-embed@6?noext\",\n",
       "    };\n",
       "\n",
       "    function maybeLoadScript(lib, version) {\n",
       "      var key = `${lib.replace(\"-\", \"\")}_version`;\n",
       "      return (VEGA_DEBUG[key] == version) ?\n",
       "        Promise.resolve(paths[lib]) :\n",
       "        new Promise(function(resolve, reject) {\n",
       "          var s = document.createElement('script');\n",
       "          document.getElementsByTagName(\"head\")[0].appendChild(s);\n",
       "          s.async = true;\n",
       "          s.onload = () => {\n",
       "            VEGA_DEBUG[key] = version;\n",
       "            return resolve(paths[lib]);\n",
       "          };\n",
       "          s.onerror = () => reject(`Error loading script: ${paths[lib]}`);\n",
       "          s.src = paths[lib];\n",
       "        });\n",
       "    }\n",
       "\n",
       "    function showError(err) {\n",
       "      outputDiv.innerHTML = `<div class=\"error\" style=\"color:red;\">${err}</div>`;\n",
       "      throw err;\n",
       "    }\n",
       "\n",
       "    function displayChart(vegaEmbed) {\n",
       "      vegaEmbed(outputDiv, spec, embedOpt)\n",
       "        .catch(err => showError(`Javascript Error: ${err.message}<br>This usually means there's a typo in your chart specification. See the javascript console for the full traceback.`));\n",
       "    }\n",
       "\n",
       "    if(typeof define === \"function\" && define.amd) {\n",
       "      requirejs.config({paths});\n",
       "      let deps = [\"vega-embed\"];\n",
       "      require(deps, displayChart, err => showError(`Error loading script: ${err.message}`));\n",
       "    } else {\n",
       "      maybeLoadScript(\"vega\", \"5\")\n",
       "        .then(() => maybeLoadScript(\"vega-lite\", \"5.20.1\"))\n",
       "        .then(() => maybeLoadScript(\"vega-embed\", \"6\"))\n",
       "        .catch(showError)\n",
       "        .then(() => displayChart(vegaEmbed));\n",
       "    }\n",
       "  })({\"config\": {\"view\": {\"continuousWidth\": 300, \"continuousHeight\": 300}}, \"data\": {\"name\": \"data-7a327902cf5a19ec2f0f6ae33dfd629d\"}, \"mark\": {\"type\": \"bar\", \"bandSize\": 40}, \"encoding\": {\"color\": {\"field\": \"anomaly\", \"scale\": {\"domain\": [10, -10], \"scheme\": \"redblue\"}, \"type\": \"quantitative\"}, \"x\": {\"axis\": {\"labelAngle\": 0, \"labelExpr\": \"substring(datum.value, 0, 4)\", \"labelOverlap\": true, \"ticks\": false, \"values\": [\"1925-03\", \"1935-03\", \"1945-03\", \"1955-03\", \"1965-03\", \"1975-03\", \"1985-03\", \"1995-03\", \"2005-03\", \"2015-03\", \"2024-03\"]}, \"field\": \"year_month\", \"title\": \"Year\", \"type\": \"ordinal\"}, \"y\": {\"field\": \"anomaly\", \"title\": \"Temperature Anomaly (\\u00b0C)\", \"type\": \"quantitative\"}}, \"height\": 400, \"title\": {\"text\": \"Temperatue change over time\", \"subtitle\": \"Temperature Anomaly (\\u00b0C compared to the 1960-1991 normal\"}, \"width\": 600, \"$schema\": \"https://vega.github.io/schema/vega-lite/v5.20.1.json\", \"datasets\": {\"data-7a327902cf5a19ec2f0f6ae33dfd629d\": [{\"year\": 1925, \"month\": 3, \"anomaly\": -0.6, \"year_month\": \"1925-03\"}, {\"year\": 1925, \"month\": 6, \"anomaly\": 1.0, \"year_month\": \"1925-06\"}, {\"year\": 1925, \"month\": 9, \"anomaly\": -0.8, \"year_month\": \"1925-09\"}, {\"year\": 1925, \"month\": 12, \"anomaly\": -0.1, \"year_month\": \"1925-12\"}, {\"year\": 1926, \"month\": 3, \"anomaly\": -0.4, \"year_month\": \"1926-03\"}, {\"year\": 1926, \"month\": 6, \"anomaly\": -0.6, \"year_month\": \"1926-06\"}, {\"year\": 1926, \"month\": 9, \"anomaly\": -1.2, \"year_month\": \"1926-09\"}, {\"year\": 1926, \"month\": 12, \"anomaly\": -0.2, \"year_month\": \"1926-12\"}, {\"year\": 1927, \"month\": 3, \"anomaly\": -1.3, \"year_month\": \"1927-03\"}, {\"year\": 1927, \"month\": 6, \"anomaly\": 1.4, \"year_month\": \"1927-06\"}, {\"year\": 1927, \"month\": 9, \"anomaly\": -1.1, \"year_month\": \"1927-09\"}, {\"year\": 1927, \"month\": 12, \"anomaly\": 2.0, \"year_month\": \"1927-12\"}, {\"year\": 1928, \"month\": 3, \"anomaly\": 0.0, \"year_month\": \"1928-03\"}, {\"year\": 1928, \"month\": 6, \"anomaly\": 0.0, \"year_month\": \"1928-06\"}, {\"year\": 1928, \"month\": 9, \"anomaly\": -0.7, \"year_month\": \"1928-09\"}, {\"year\": 1928, \"month\": 12, \"anomaly\": 1.2, \"year_month\": \"1928-12\"}, {\"year\": 1929, \"month\": 3, \"anomaly\": -1.1, \"year_month\": \"1929-03\"}, {\"year\": 1929, \"month\": 6, \"anomaly\": -1.7, \"year_month\": \"1929-06\"}, {\"year\": 1929, \"month\": 9, \"anomaly\": 1.0, \"year_month\": \"1929-09\"}, {\"year\": 1929, \"month\": 12, \"anomaly\": 3.7, \"year_month\": \"1929-12\"}, {\"year\": 1930, \"month\": 3, \"anomaly\": 0.8, \"year_month\": \"1930-03\"}, {\"year\": 1930, \"month\": 6, \"anomaly\": 2.1, \"year_month\": \"1930-06\"}, {\"year\": 1930, \"month\": 9, \"anomaly\": -0.3, \"year_month\": \"1930-09\"}, {\"year\": 1930, \"month\": 12, \"anomaly\": 1.7, \"year_month\": \"1930-12\"}, {\"year\": 1931, \"month\": 3, \"anomaly\": -0.4, \"year_month\": \"1931-03\"}, {\"year\": 1931, \"month\": 6, \"anomaly\": -0.6, \"year_month\": \"1931-06\"}, {\"year\": 1931, \"month\": 9, \"anomaly\": 0.1, \"year_month\": \"1931-09\"}, {\"year\": 1931, \"month\": 12, \"anomaly\": 2.7, \"year_month\": \"1931-12\"}, {\"year\": 1932, \"month\": 3, \"anomaly\": -1.0, \"year_month\": \"1932-03\"}, {\"year\": 1932, \"month\": 6, \"anomaly\": -0.8, \"year_month\": \"1932-06\"}, {\"year\": 1932, \"month\": 9, \"anomaly\": -0.8, \"year_month\": \"1932-09\"}, {\"year\": 1932, \"month\": 12, \"anomaly\": 2.7, \"year_month\": \"1932-12\"}, {\"year\": 1933, \"month\": 3, \"anomaly\": -1.4, \"year_month\": \"1933-03\"}, {\"year\": 1933, \"month\": 6, \"anomaly\": 0.8, \"year_month\": \"1933-06\"}, {\"year\": 1933, \"month\": 9, \"anomaly\": 1.0, \"year_month\": \"1933-09\"}, {\"year\": 1933, \"month\": 12, \"anomaly\": 2.3, \"year_month\": \"1933-12\"}, {\"year\": 1934, \"month\": 3, \"anomaly\": 0.3, \"year_month\": \"1934-03\"}, {\"year\": 1934, \"month\": 6, \"anomaly\": 1.5, \"year_month\": \"1934-06\"}, {\"year\": 1934, \"month\": 9, \"anomaly\": 2.3, \"year_month\": \"1934-09\"}, {\"year\": 1934, \"month\": 12, \"anomaly\": 1.9, \"year_month\": \"1934-12\"}, {\"year\": 1935, \"month\": 3, \"anomaly\": -0.5, \"year_month\": \"1935-03\"}, {\"year\": 1935, \"month\": 6, \"anomaly\": -0.5, \"year_month\": \"1935-06\"}, {\"year\": 1935, \"month\": 9, \"anomaly\": 0.4, \"year_month\": \"1935-09\"}, {\"year\": 1935, \"month\": 12, \"anomaly\": -0.3, \"year_month\": \"1935-12\"}, {\"year\": 1936, \"month\": 3, \"anomaly\": 0.1, \"year_month\": \"1936-03\"}, {\"year\": 1936, \"month\": 6, \"anomaly\": 1.3, \"year_month\": \"1936-06\"}, {\"year\": 1936, \"month\": 9, \"anomaly\": 0.7, \"year_month\": \"1936-09\"}, {\"year\": 1936, \"month\": 12, \"anomaly\": 1.9, \"year_month\": \"1936-12\"}, {\"year\": 1937, \"month\": 3, \"anomaly\": 1.2, \"year_month\": \"1937-03\"}, {\"year\": 1937, \"month\": 6, \"anomaly\": 2.0, \"year_month\": \"1937-06\"}, {\"year\": 1937, \"month\": 9, \"anomaly\": 1.3, \"year_month\": \"1937-09\"}, {\"year\": 1937, \"month\": 12, \"anomaly\": 2.1, \"year_month\": \"1937-12\"}, {\"year\": 1938, \"month\": 3, \"anomaly\": -0.2, \"year_month\": \"1938-03\"}, {\"year\": 1938, \"month\": 6, \"anomaly\": 1.3, \"year_month\": \"1938-06\"}, {\"year\": 1938, \"month\": 9, \"anomaly\": 3.2, \"year_month\": \"1938-09\"}, {\"year\": 1938, \"month\": 12, \"anomaly\": 1.7, \"year_month\": \"1938-12\"}, {\"year\": 1939, \"month\": 3, \"anomaly\": -0.8, \"year_month\": \"1939-03\"}, {\"year\": 1939, \"month\": 6, \"anomaly\": 0.5, \"year_month\": \"1939-06\"}, {\"year\": 1939, \"month\": 9, \"anomaly\": 0.2, \"year_month\": \"1939-09\"}, {\"year\": 1939, \"month\": 12, \"anomaly\": -0.2, \"year_month\": \"1939-12\"}, {\"year\": 1940, \"month\": 3, \"anomaly\": -0.7, \"year_month\": \"1940-03\"}, {\"year\": 1940, \"month\": 6, \"anomaly\": -1.2, \"year_month\": \"1940-06\"}, {\"year\": 1940, \"month\": 9, \"anomaly\": 0.7, \"year_month\": \"1940-09\"}, {\"year\": 1940, \"month\": 12, \"anomaly\": -0.6, \"year_month\": \"1940-12\"}, {\"year\": 1941, \"month\": 3, \"anomaly\": -2.0, \"year_month\": \"1941-03\"}, {\"year\": 1941, \"month\": 6, \"anomaly\": 0.1, \"year_month\": \"1941-06\"}, {\"year\": 1941, \"month\": 9, \"anomaly\": -0.4, \"year_month\": \"1941-09\"}, {\"year\": 1941, \"month\": 12, \"anomaly\": -0.7, \"year_month\": \"1941-12\"}, {\"year\": 1942, \"month\": 3, \"anomaly\": -2.1, \"year_month\": \"1942-03\"}, {\"year\": 1942, \"month\": 6, \"anomaly\": -0.4, \"year_month\": \"1942-06\"}, {\"year\": 1942, \"month\": 9, \"anomaly\": -0.2, \"year_month\": \"1942-09\"}, {\"year\": 1942, \"month\": 12, \"anomaly\": 0.4, \"year_month\": \"1942-12\"}, {\"year\": 1943, \"month\": 3, \"anomaly\": 0.1, \"year_month\": \"1943-03\"}, {\"year\": 1943, \"month\": 6, \"anomaly\": -0.2, \"year_month\": \"1943-06\"}, {\"year\": 1943, \"month\": 9, \"anomaly\": 1.1, \"year_month\": \"1943-09\"}, {\"year\": 1943, \"month\": 12, \"anomaly\": 3.0, \"year_month\": \"1943-12\"}, {\"year\": 1944, \"month\": 3, \"anomaly\": -0.9, \"year_month\": \"1944-03\"}, {\"year\": 1944, \"month\": 6, \"anomaly\": -0.8, \"year_month\": \"1944-06\"}, {\"year\": 1944, \"month\": 9, \"anomaly\": 2.0, \"year_month\": \"1944-09\"}, {\"year\": 1944, \"month\": 12, \"anomaly\": 2.0, \"year_month\": \"1944-12\"}, {\"year\": 1945, \"month\": 3, \"anomaly\": 0.1, \"year_month\": \"1945-03\"}, {\"year\": 1945, \"month\": 6, \"anomaly\": 0.0, \"year_month\": \"1945-06\"}, {\"year\": 1945, \"month\": 9, \"anomaly\": -0.4, \"year_month\": \"1945-09\"}, {\"year\": 1945, \"month\": 12, \"anomaly\": 0.1, \"year_month\": \"1945-12\"}, {\"year\": 1946, \"month\": 3, \"anomaly\": -0.2, \"year_month\": \"1946-03\"}, {\"year\": 1946, \"month\": 6, \"anomaly\": 1.4, \"year_month\": \"1946-06\"}, {\"year\": 1946, \"month\": 9, \"anomaly\": 0.9, \"year_month\": \"1946-09\"}, {\"year\": 1946, \"month\": 12, \"anomaly\": 1.3, \"year_month\": \"1946-12\"}, {\"year\": 1947, \"month\": 3, \"anomaly\": -1.6, \"year_month\": \"1947-03\"}, {\"year\": 1947, \"month\": 6, \"anomaly\": 0.3, \"year_month\": \"1947-06\"}, {\"year\": 1947, \"month\": 9, \"anomaly\": -0.4, \"year_month\": \"1947-09\"}, {\"year\": 1947, \"month\": 12, \"anomaly\": 0.1, \"year_month\": \"1947-12\"}, {\"year\": 1948, \"month\": 3, \"anomaly\": 0.9, \"year_month\": \"1948-03\"}, {\"year\": 1948, \"month\": 6, \"anomaly\": -0.5, \"year_month\": \"1948-06\"}, {\"year\": 1948, \"month\": 9, \"anomaly\": 0.6, \"year_month\": \"1948-09\"}, {\"year\": 1948, \"month\": 12, \"anomaly\": 2.8, \"year_month\": \"1948-12\"}, {\"year\": 1949, \"month\": 3, \"anomaly\": 0.2, \"year_month\": \"1949-03\"}, {\"year\": 1949, \"month\": 6, \"anomaly\": -1.6, \"year_month\": \"1949-06\"}, {\"year\": 1949, \"month\": 9, \"anomaly\": 1.0, \"year_month\": \"1949-09\"}, {\"year\": 1949, \"month\": 12, \"anomaly\": 0.8, \"year_month\": \"1949-12\"}, {\"year\": 1950, \"month\": 3, \"anomaly\": 0.7, \"year_month\": \"1950-03\"}, {\"year\": 1950, \"month\": 6, \"anomaly\": 1.5, \"year_month\": \"1950-06\"}, {\"year\": 1950, \"month\": 9, \"anomaly\": 1.9, \"year_month\": \"1950-09\"}, {\"year\": 1950, \"month\": 12, \"anomaly\": 0.4, \"year_month\": \"1950-12\"}, {\"year\": 1951, \"month\": 3, \"anomaly\": -1.0, \"year_month\": \"1951-03\"}, {\"year\": 1951, \"month\": 6, \"anomaly\": -1.3, \"year_month\": \"1951-06\"}, {\"year\": 1951, \"month\": 9, \"anomaly\": 0.6, \"year_month\": \"1951-09\"}, {\"year\": 1951, \"month\": 12, \"anomaly\": 0.6, \"year_month\": \"1951-12\"}, {\"year\": 1952, \"month\": 3, \"anomaly\": -0.2, \"year_month\": \"1952-03\"}, {\"year\": 1952, \"month\": 6, \"anomaly\": -0.6, \"year_month\": \"1952-06\"}, {\"year\": 1952, \"month\": 9, \"anomaly\": -0.8, \"year_month\": \"1952-09\"}, {\"year\": 1952, \"month\": 12, \"anomaly\": -0.6, \"year_month\": \"1952-12\"}, {\"year\": 1953, \"month\": 3, \"anomaly\": -0.1, \"year_month\": \"1953-03\"}, {\"year\": 1953, \"month\": 6, \"anomaly\": 2.1, \"year_month\": \"1953-06\"}, {\"year\": 1953, \"month\": 9, \"anomaly\": 1.8, \"year_month\": \"1953-09\"}, {\"year\": 1953, \"month\": 12, \"anomaly\": 2.5, \"year_month\": \"1953-12\"}, {\"year\": 1954, \"month\": 3, \"anomaly\": 0.6, \"year_month\": \"1954-03\"}, {\"year\": 1954, \"month\": 6, \"anomaly\": 0.8, \"year_month\": \"1954-06\"}, {\"year\": 1954, \"month\": 9, \"anomaly\": 0.2, \"year_month\": \"1954-09\"}, {\"year\": 1954, \"month\": 12, \"anomaly\": 0.1, \"year_month\": \"1954-12\"}, {\"year\": 1955, \"month\": 3, \"anomaly\": -1.6, \"year_month\": \"1955-03\"}, {\"year\": 1955, \"month\": 6, \"anomaly\": -1.8, \"year_month\": \"1955-06\"}, {\"year\": 1955, \"month\": 9, \"anomaly\": -0.3, \"year_month\": \"1955-09\"}, {\"year\": 1955, \"month\": 12, \"anomaly\": -2.2, \"year_month\": \"1955-12\"}, {\"year\": 1956, \"month\": 3, \"anomaly\": -0.3, \"year_month\": \"1956-03\"}, {\"year\": 1956, \"month\": 6, \"anomaly\": 0.1, \"year_month\": \"1956-06\"}, {\"year\": 1956, \"month\": 9, \"anomaly\": -0.6, \"year_month\": \"1956-09\"}, {\"year\": 1956, \"month\": 12, \"anomaly\": 1.1, \"year_month\": \"1956-12\"}, {\"year\": 1957, \"month\": 3, \"anomaly\": 0.2, \"year_month\": \"1957-03\"}, {\"year\": 1957, \"month\": 6, \"anomaly\": -0.4, \"year_month\": \"1957-06\"}, {\"year\": 1957, \"month\": 9, \"anomaly\": 1.0, \"year_month\": \"1957-09\"}, {\"year\": 1957, \"month\": 12, \"anomaly\": -1.2, \"year_month\": \"1957-12\"}, {\"year\": 1958, \"month\": 3, \"anomaly\": -1.0, \"year_month\": \"1958-03\"}, {\"year\": 1958, \"month\": 6, \"anomaly\": -0.2, \"year_month\": \"1958-06\"}, {\"year\": 1958, \"month\": 9, \"anomaly\": 1.7, \"year_month\": \"1958-09\"}, {\"year\": 1958, \"month\": 12, \"anomaly\": 1.0, \"year_month\": \"1958-12\"}, {\"year\": 1959, \"month\": 3, \"anomaly\": 1.7, \"year_month\": \"1959-03\"}, {\"year\": 1959, \"month\": 6, \"anomaly\": -0.5, \"year_month\": \"1959-06\"}, {\"year\": 1959, \"month\": 9, \"anomaly\": 0.8, \"year_month\": \"1959-09\"}, {\"year\": 1959, \"month\": 12, \"anomaly\": -0.3, \"year_month\": \"1959-12\"}, {\"year\": 1960, \"month\": 3, \"anomaly\": 2.5, \"year_month\": \"1960-03\"}, {\"year\": 1960, \"month\": 6, \"anomaly\": 1.7, \"year_month\": \"1960-06\"}, {\"year\": 1960, \"month\": 9, \"anomaly\": -0.5, \"year_month\": \"1960-09\"}, {\"year\": 1960, \"month\": 12, \"anomaly\": 1.3, \"year_month\": \"1960-12\"}, {\"year\": 1961, \"month\": 3, \"anomaly\": -0.4, \"year_month\": \"1961-03\"}, {\"year\": 1961, \"month\": 6, \"anomaly\": 1.2, \"year_month\": \"1961-06\"}, {\"year\": 1961, \"month\": 9, \"anomaly\": 2.3, \"year_month\": \"1961-09\"}, {\"year\": 1961, \"month\": 12, \"anomaly\": -0.3, \"year_month\": \"1961-12\"}, {\"year\": 1962, \"month\": 3, \"anomaly\": -1.6, \"year_month\": \"1962-03\"}, {\"year\": 1962, \"month\": 6, \"anomaly\": -1.5, \"year_month\": \"1962-06\"}, {\"year\": 1962, \"month\": 9, \"anomaly\": 0.5, \"year_month\": \"1962-09\"}, {\"year\": 1962, \"month\": 12, \"anomaly\": -1.3, \"year_month\": \"1962-12\"}, {\"year\": 1963, \"month\": 3, \"anomaly\": 0.6, \"year_month\": \"1963-03\"}, {\"year\": 1963, \"month\": 6, \"anomaly\": -0.2, \"year_month\": \"1963-06\"}, {\"year\": 1963, \"month\": 9, \"anomaly\": 1.1, \"year_month\": \"1963-09\"}, {\"year\": 1963, \"month\": 12, \"anomaly\": 1.6, \"year_month\": \"1963-12\"}, {\"year\": 1964, \"month\": 3, \"anomaly\": 1.1, \"year_month\": \"1964-03\"}, {\"year\": 1964, \"month\": 6, \"anomaly\": -0.7, \"year_month\": \"1964-06\"}, {\"year\": 1964, \"month\": 9, \"anomaly\": 0.6, \"year_month\": \"1964-09\"}, {\"year\": 1964, \"month\": 12, \"anomaly\": 0.8, \"year_month\": \"1964-12\"}, {\"year\": 1965, \"month\": 3, \"anomaly\": -1.4, \"year_month\": \"1965-03\"}, {\"year\": 1965, \"month\": 6, \"anomaly\": -1.6, \"year_month\": \"1965-06\"}, {\"year\": 1965, \"month\": 9, \"anomaly\": 0.0, \"year_month\": \"1965-09\"}, {\"year\": 1965, \"month\": 12, \"anomaly\": -3.2, \"year_month\": \"1965-12\"}, {\"year\": 1966, \"month\": 3, \"anomaly\": -2.3, \"year_month\": \"1966-03\"}, {\"year\": 1966, \"month\": 6, \"anomaly\": 0.4, \"year_month\": \"1966-06\"}, {\"year\": 1966, \"month\": 9, \"anomaly\": -1.1, \"year_month\": \"1966-09\"}, {\"year\": 1966, \"month\": 12, \"anomaly\": -0.2, \"year_month\": \"1966-12\"}, {\"year\": 1967, \"month\": 3, \"anomaly\": 1.1, \"year_month\": \"1967-03\"}, {\"year\": 1967, \"month\": 6, \"anomaly\": -0.5, \"year_month\": \"1967-06\"}, {\"year\": 1967, \"month\": 9, \"anomaly\": 1.6, \"year_month\": \"1967-09\"}, {\"year\": 1967, \"month\": 12, \"anomaly\": -2.2, \"year_month\": \"1967-12\"}, {\"year\": 1968, \"month\": 3, \"anomaly\": -1.4, \"year_month\": \"1968-03\"}, {\"year\": 1968, \"month\": 6, \"anomaly\": -2.3, \"year_month\": \"1968-06\"}, {\"year\": 1968, \"month\": 9, \"anomaly\": -1.4, \"year_month\": \"1968-09\"}, {\"year\": 1968, \"month\": 12, \"anomaly\": 0.7, \"year_month\": \"1968-12\"}, {\"year\": 1969, \"month\": 3, \"anomaly\": -0.5, \"year_month\": \"1969-03\"}, {\"year\": 1969, \"month\": 6, \"anomaly\": 1.0, \"year_month\": \"1969-06\"}, {\"year\": 1969, \"month\": 9, \"anomaly\": 0.1, \"year_month\": \"1969-09\"}, {\"year\": 1969, \"month\": 12, \"anomaly\": -0.8, \"year_month\": \"1969-12\"}, {\"year\": 1970, \"month\": 3, \"anomaly\": -0.2, \"year_month\": \"1970-03\"}, {\"year\": 1970, \"month\": 6, \"anomaly\": 0.9, \"year_month\": \"1970-06\"}, {\"year\": 1970, \"month\": 9, \"anomaly\": -0.2, \"year_month\": \"1970-09\"}, {\"year\": 1970, \"month\": 12, \"anomaly\": 0.1, \"year_month\": \"1970-12\"}, {\"year\": 1971, \"month\": 3, \"anomaly\": -1.7, \"year_month\": \"1971-03\"}, {\"year\": 1971, \"month\": 6, \"anomaly\": -0.3, \"year_month\": \"1971-06\"}, {\"year\": 1971, \"month\": 9, \"anomaly\": -1.2, \"year_month\": \"1971-09\"}, {\"year\": 1971, \"month\": 12, \"anomaly\": 2.1, \"year_month\": \"1971-12\"}, {\"year\": 1972, \"month\": 3, \"anomaly\": 0.2, \"year_month\": \"1972-03\"}, {\"year\": 1972, \"month\": 6, \"anomaly\": 2.1, \"year_month\": \"1972-06\"}, {\"year\": 1972, \"month\": 9, \"anomaly\": 0.0, \"year_month\": \"1972-09\"}, {\"year\": 1972, \"month\": 12, \"anomaly\": 2.9, \"year_month\": \"1972-12\"}, {\"year\": 1973, \"month\": 3, \"anomaly\": 0.0, \"year_month\": \"1973-03\"}, {\"year\": 1973, \"month\": 6, \"anomaly\": 0.2, \"year_month\": \"1973-06\"}, {\"year\": 1973, \"month\": 9, \"anomaly\": -2.2, \"year_month\": \"1973-09\"}, {\"year\": 1973, \"month\": 12, \"anomaly\": 0.6, \"year_month\": \"1973-12\"}, {\"year\": 1974, \"month\": 3, \"anomaly\": 1.3, \"year_month\": \"1974-03\"}, {\"year\": 1974, \"month\": 6, \"anomaly\": 1.1, \"year_month\": \"1974-06\"}, {\"year\": 1974, \"month\": 9, \"anomaly\": 0.1, \"year_month\": \"1974-09\"}, {\"year\": 1974, \"month\": 12, \"anomaly\": 1.8, \"year_month\": \"1974-12\"}, {\"year\": 1975, \"month\": 3, \"anomaly\": 0.6, \"year_month\": \"1975-03\"}, {\"year\": 1975, \"month\": 6, \"anomaly\": -2.6, \"year_month\": \"1975-06\"}, {\"year\": 1975, \"month\": 9, \"anomaly\": 0.5, \"year_month\": \"1975-09\"}, {\"year\": 1975, \"month\": 12, \"anomaly\": -0.1, \"year_month\": \"1975-12\"}, {\"year\": 1976, \"month\": 3, \"anomaly\": 0.5, \"year_month\": \"1976-03\"}, {\"year\": 1976, \"month\": 6, \"anomaly\": -0.7, \"year_month\": \"1976-06\"}, {\"year\": 1976, \"month\": 9, \"anomaly\": -1.3, \"year_month\": \"1976-09\"}, {\"year\": 1976, \"month\": 12, \"anomaly\": -0.7, \"year_month\": \"1976-12\"}, {\"year\": 1977, \"month\": 3, \"anomaly\": -1.5, \"year_month\": \"1977-03\"}, {\"year\": 1977, \"month\": 6, \"anomaly\": -0.9, \"year_month\": \"1977-06\"}, {\"year\": 1977, \"month\": 9, \"anomaly\": 0.1, \"year_month\": \"1977-09\"}, {\"year\": 1977, \"month\": 12, \"anomaly\": -1.0, \"year_month\": \"1977-12\"}, {\"year\": 1978, \"month\": 3, \"anomaly\": -0.9, \"year_month\": \"1978-03\"}, {\"year\": 1978, \"month\": 6, \"anomaly\": 0.7, \"year_month\": \"1978-06\"}, {\"year\": 1978, \"month\": 9, \"anomaly\": -0.9, \"year_month\": \"1978-09\"}, {\"year\": 1978, \"month\": 12, \"anomaly\": -1.7, \"year_month\": \"1978-12\"}, {\"year\": 1979, \"month\": 3, \"anomaly\": 0.0, \"year_month\": \"1979-03\"}, {\"year\": 1979, \"month\": 6, \"anomaly\": 0.9, \"year_month\": \"1979-06\"}, {\"year\": 1979, \"month\": 9, \"anomaly\": -0.5, \"year_month\": \"1979-09\"}, {\"year\": 1979, \"month\": 12, \"anomaly\": 0.4, \"year_month\": \"1979-12\"}, {\"year\": 1980, \"month\": 3, \"anomaly\": 0.8, \"year_month\": \"1980-03\"}, {\"year\": 1980, \"month\": 6, \"anomaly\": 1.4, \"year_month\": \"1980-06\"}, {\"year\": 1980, \"month\": 9, \"anomaly\": -0.9, \"year_month\": \"1980-09\"}, {\"year\": 1980, \"month\": 12, \"anomaly\": -0.5, \"year_month\": \"1980-12\"}, {\"year\": 1981, \"month\": 3, \"anomaly\": -1.3, \"year_month\": \"1981-03\"}, {\"year\": 1981, \"month\": 6, \"anomaly\": -1.9, \"year_month\": \"1981-06\"}, {\"year\": 1981, \"month\": 9, \"anomaly\": -0.4, \"year_month\": \"1981-09\"}, {\"year\": 1981, \"month\": 12, \"anomaly\": -0.6, \"year_month\": \"1981-12\"}, {\"year\": 1982, \"month\": 3, \"anomaly\": 0.0, \"year_month\": \"1982-03\"}, {\"year\": 1982, \"month\": 6, \"anomaly\": -1.8, \"year_month\": \"1982-06\"}, {\"year\": 1982, \"month\": 9, \"anomaly\": -0.2, \"year_month\": \"1982-09\"}, {\"year\": 1982, \"month\": 12, \"anomaly\": 1.4, \"year_month\": \"1982-12\"}, {\"year\": 1983, \"month\": 3, \"anomaly\": 1.4, \"year_month\": \"1983-03\"}, {\"year\": 1983, \"month\": 6, \"anomaly\": -1.3, \"year_month\": \"1983-06\"}, {\"year\": 1983, \"month\": 9, \"anomaly\": -0.6, \"year_month\": \"1983-09\"}, {\"year\": 1983, \"month\": 12, \"anomaly\": 0.6, \"year_month\": \"1983-12\"}, {\"year\": 1984, \"month\": 3, \"anomaly\": 1.3, \"year_month\": \"1984-03\"}, {\"year\": 1984, \"month\": 6, \"anomaly\": -0.9, \"year_month\": \"1984-06\"}, {\"year\": 1984, \"month\": 9, \"anomaly\": 0.1, \"year_month\": \"1984-09\"}, {\"year\": 1984, \"month\": 12, \"anomaly\": 0.2, \"year_month\": \"1984-12\"}, {\"year\": 1985, \"month\": 3, \"anomaly\": -0.9, \"year_month\": \"1985-03\"}, {\"year\": 1985, \"month\": 6, \"anomaly\": 1.0, \"year_month\": \"1985-06\"}, {\"year\": 1985, \"month\": 9, \"anomaly\": -0.2, \"year_month\": \"1985-09\"}, {\"year\": 1985, \"month\": 12, \"anomaly\": -1.4, \"year_month\": \"1985-12\"}, {\"year\": 1986, \"month\": 3, \"anomaly\": 1.3, \"year_month\": \"1986-03\"}, {\"year\": 1986, \"month\": 6, \"anomaly\": -0.1, \"year_month\": \"1986-06\"}, {\"year\": 1986, \"month\": 9, \"anomaly\": 0.3, \"year_month\": \"1986-09\"}, {\"year\": 1986, \"month\": 12, \"anomaly\": -2.6, \"year_month\": \"1986-12\"}, {\"year\": 1987, \"month\": 3, \"anomaly\": -0.4, \"year_month\": \"1987-03\"}, {\"year\": 1987, \"month\": 6, \"anomaly\": -1.7, \"year_month\": \"1987-06\"}, {\"year\": 1987, \"month\": 9, \"anomaly\": 1.3, \"year_month\": \"1987-09\"}, {\"year\": 1987, \"month\": 12, \"anomaly\": -0.7, \"year_month\": \"1987-12\"}, {\"year\": 1988, \"month\": 3, \"anomaly\": -1.5, \"year_month\": \"1988-03\"}, {\"year\": 1988, \"month\": 6, \"anomaly\": 0.5, \"year_month\": \"1988-06\"}, {\"year\": 1988, \"month\": 9, \"anomaly\": -0.5, \"year_month\": \"1988-09\"}, {\"year\": 1988, \"month\": 12, \"anomaly\": 1.1, \"year_month\": \"1988-12\"}, {\"year\": 1989, \"month\": 3, \"anomaly\": 1.9, \"year_month\": \"1989-03\"}, {\"year\": 1989, \"month\": 6, \"anomaly\": -0.1, \"year_month\": \"1989-06\"}, {\"year\": 1989, \"month\": 9, \"anomaly\": 0.6, \"year_month\": \"1989-09\"}, {\"year\": 1989, \"month\": 12, \"anomaly\": 1.6, \"year_month\": \"1989-12\"}, {\"year\": 1990, \"month\": 3, \"anomaly\": 0.4, \"year_month\": \"1990-03\"}, {\"year\": 1990, \"month\": 6, \"anomaly\": 1.4, \"year_month\": \"1990-06\"}, {\"year\": 1990, \"month\": 9, \"anomaly\": 0.8, \"year_month\": \"1990-09\"}, {\"year\": 1990, \"month\": 12, \"anomaly\": 2.6, \"year_month\": \"1990-12\"}, {\"year\": 1991, \"month\": 3, \"anomaly\": 0.2, \"year_month\": \"1991-03\"}, {\"year\": 1991, \"month\": 6, \"anomaly\": 0.5, \"year_month\": \"1991-06\"}, {\"year\": 1991, \"month\": 9, \"anomaly\": 0.1, \"year_month\": \"1991-09\"}, {\"year\": 1991, \"month\": 12, \"anomaly\": 3.1, \"year_month\": \"1991-12\"}, {\"year\": 1992, \"month\": 3, \"anomaly\": 0.8, \"year_month\": \"1992-03\"}, {\"year\": 1992, \"month\": 6, \"anomaly\": -0.4, \"year_month\": \"1992-06\"}, {\"year\": 1992, \"month\": 9, \"anomaly\": -1.4, \"year_month\": \"1992-09\"}, {\"year\": 1992, \"month\": 12, \"anomaly\": 2.8, \"year_month\": \"1992-12\"}, {\"year\": 1993, \"month\": 3, \"anomaly\": -0.1, \"year_month\": \"1993-03\"}, {\"year\": 1993, \"month\": 6, \"anomaly\": 0.2, \"year_month\": \"1993-06\"}, {\"year\": 1993, \"month\": 9, \"anomaly\": -0.3, \"year_month\": \"1993-09\"}, {\"year\": 1993, \"month\": 12, \"anomaly\": -0.6, \"year_month\": \"1993-12\"}, {\"year\": 1994, \"month\": 3, \"anomaly\": 0.6, \"year_month\": \"1994-03\"}, {\"year\": 1994, \"month\": 6, \"anomaly\": -0.6, \"year_month\": \"1994-06\"}, {\"year\": 1994, \"month\": 9, \"anomaly\": -0.1, \"year_month\": \"1994-09\"}, {\"year\": 1994, \"month\": 12, \"anomaly\": 2.1, \"year_month\": \"1994-12\"}, {\"year\": 1995, \"month\": 3, \"anomaly\": 0.4, \"year_month\": \"1995-03\"}, {\"year\": 1995, \"month\": 6, \"anomaly\": -1.4, \"year_month\": \"1995-06\"}, {\"year\": 1995, \"month\": 9, \"anomaly\": -0.9, \"year_month\": \"1995-09\"}, {\"year\": 1995, \"month\": 12, \"anomaly\": 0.3, \"year_month\": \"1995-12\"}, {\"year\": 1996, \"month\": 3, \"anomaly\": -0.6, \"year_month\": \"1996-03\"}, {\"year\": 1996, \"month\": 6, \"anomaly\": -0.2, \"year_month\": \"1996-06\"}, {\"year\": 1996, \"month\": 9, \"anomaly\": 0.2, \"year_month\": \"1996-09\"}, {\"year\": 1996, \"month\": 12, \"anomaly\": -0.2, \"year_month\": \"1996-12\"}, {\"year\": 1997, \"month\": 3, \"anomaly\": -1.6, \"year_month\": \"1997-03\"}, {\"year\": 1997, \"month\": 6, \"anomaly\": 0.7, \"year_month\": \"1997-06\"}, {\"year\": 1997, \"month\": 9, \"anomaly\": 0.4, \"year_month\": \"1997-09\"}, {\"year\": 1997, \"month\": 12, \"anomaly\": 0.3, \"year_month\": \"1997-12\"}, {\"year\": 1998, \"month\": 3, \"anomaly\": -0.9, \"year_month\": \"1998-03\"}, {\"year\": 1998, \"month\": 6, \"anomaly\": 1.3, \"year_month\": \"1998-06\"}, {\"year\": 1998, \"month\": 9, \"anomaly\": -0.4, \"year_month\": \"1998-09\"}, {\"year\": 1998, \"month\": 12, \"anomaly\": 0.5, \"year_month\": \"1998-12\"}, {\"year\": 1999, \"month\": 3, \"anomaly\": 0.1, \"year_month\": \"1999-03\"}, {\"year\": 1999, \"month\": 6, \"anomaly\": -0.8, \"year_month\": \"1999-06\"}, {\"year\": 1999, \"month\": 9, \"anomaly\": 2.1, \"year_month\": \"1999-09\"}, {\"year\": 1999, \"month\": 12, \"anomaly\": 0.6, \"year_month\": \"1999-12\"}, {\"year\": 2000, \"month\": 3, \"anomaly\": -0.4, \"year_month\": \"2000-03\"}, {\"year\": 2000, \"month\": 6, \"anomaly\": -0.6, \"year_month\": \"2000-06\"}, {\"year\": 2000, \"month\": 9, \"anomaly\": 2.1, \"year_month\": \"2000-09\"}, {\"year\": 2000, \"month\": 12, \"anomaly\": 0.5, \"year_month\": \"2000-12\"}, {\"year\": 2001, \"month\": 3, \"anomaly\": -1.2, \"year_month\": \"2001-03\"}, {\"year\": 2001, \"month\": 6, \"anomaly\": -0.1, \"year_month\": \"2001-06\"}, {\"year\": 2001, \"month\": 9, \"anomaly\": 0.8, \"year_month\": \"2001-09\"}, {\"year\": 2001, \"month\": 12, \"anomaly\": 0.7, \"year_month\": \"2001-12\"}, {\"year\": 2002, \"month\": 3, \"anomaly\": 2.0, \"year_month\": \"2002-03\"}, {\"year\": 2002, \"month\": 6, \"anomaly\": 1.3, \"year_month\": \"2002-06\"}, {\"year\": 2002, \"month\": 9, \"anomaly\": -1.4, \"year_month\": \"2002-09\"}, {\"year\": 2002, \"month\": 12, \"anomaly\": 0.4, \"year_month\": \"2002-12\"}, {\"year\": 2003, \"month\": 3, \"anomaly\": 1.7, \"year_month\": \"2003-03\"}, {\"year\": 2003, \"month\": 6, \"anomaly\": 1.2, \"year_month\": \"2003-06\"}, {\"year\": 2003, \"month\": 9, \"anomaly\": 1.0, \"year_month\": \"2003-09\"}, {\"year\": 2003, \"month\": 12, \"anomaly\": 0.5, \"year_month\": \"2003-12\"}, {\"year\": 2004, \"month\": 3, \"anomaly\": 2.4, \"year_month\": \"2004-03\"}, {\"year\": 2004, \"month\": 6, \"anomaly\": 1.1, \"year_month\": \"2004-06\"}, {\"year\": 2004, \"month\": 9, \"anomaly\": 0.6, \"year_month\": \"2004-09\"}, {\"year\": 2004, \"month\": 12, \"anomaly\": 2.9, \"year_month\": \"2004-12\"}, {\"year\": 2005, \"month\": 3, \"anomaly\": 0.8, \"year_month\": \"2005-03\"}, {\"year\": 2005, \"month\": 6, \"anomaly\": 0.9, \"year_month\": \"2005-06\"}, {\"year\": 2005, \"month\": 9, \"anomaly\": 1.7, \"year_month\": \"2005-09\"}, {\"year\": 2005, \"month\": 12, \"anomaly\": 2.3, \"year_month\": \"2005-12\"}, {\"year\": 2006, \"month\": 3, \"anomaly\": 1.2, \"year_month\": \"2006-03\"}, {\"year\": 2006, \"month\": 6, \"anomaly\": 0.1, \"year_month\": \"2006-06\"}, {\"year\": 2006, \"month\": 9, \"anomaly\": 0.8, \"year_month\": \"2006-09\"}, {\"year\": 2006, \"month\": 12, \"anomaly\": 1.0, \"year_month\": \"2006-12\"}, {\"year\": 2007, \"month\": 3, \"anomaly\": 1.7, \"year_month\": \"2007-03\"}, {\"year\": 2007, \"month\": 6, \"anomaly\": 1.1, \"year_month\": \"2007-06\"}, {\"year\": 2007, \"month\": 9, \"anomaly\": 1.5, \"year_month\": \"2007-09\"}, {\"year\": 2007, \"month\": 12, \"anomaly\": 3.4, \"year_month\": \"2007-12\"}, {\"year\": 2008, \"month\": 3, \"anomaly\": -0.4, \"year_month\": \"2008-03\"}, {\"year\": 2008, \"month\": 6, \"anomaly\": -0.7, \"year_month\": \"2008-06\"}, {\"year\": 2008, \"month\": 9, \"anomaly\": 0.7, \"year_month\": \"2008-09\"}, {\"year\": 2008, \"month\": 12, \"anomaly\": 1.5, \"year_month\": \"2008-12\"}, {\"year\": 2009, \"month\": 3, \"anomaly\": 1.1, \"year_month\": \"2009-03\"}, {\"year\": 2009, \"month\": 6, \"anomaly\": 0.6, \"year_month\": \"2009-06\"}, {\"year\": 2009, \"month\": 9, \"anomaly\": 0.8, \"year_month\": \"2009-09\"}, {\"year\": 2009, \"month\": 12, \"anomaly\": -1.0, \"year_month\": \"2009-12\"}, {\"year\": 2010, \"month\": 3, \"anomaly\": 0.8, \"year_month\": \"2010-03\"}, {\"year\": 2010, \"month\": 6, \"anomaly\": -1.1, \"year_month\": \"2010-06\"}, {\"year\": 2010, \"month\": 9, \"anomaly\": 0.2, \"year_month\": \"2010-09\"}, {\"year\": 2010, \"month\": 12, \"anomaly\": 0.2, \"year_month\": \"2010-12\"}, {\"year\": 2011, \"month\": 3, \"anomaly\": 2.0, \"year_month\": \"2011-03\"}, {\"year\": 2011, \"month\": 6, \"anomaly\": 1.1, \"year_month\": \"2011-06\"}, {\"year\": 2011, \"month\": 9, \"anomaly\": 3.7, \"year_month\": \"2011-09\"}, {\"year\": 2011, \"month\": 12, \"anomaly\": 1.7, \"year_month\": \"2011-12\"}, {\"year\": 2012, \"month\": 3, \"anomaly\": 0.5, \"year_month\": \"2012-03\"}, {\"year\": 2012, \"month\": 6, \"anomaly\": -0.8, \"year_month\": \"2012-06\"}, {\"year\": 2012, \"month\": 9, \"anomaly\": 0.7, \"year_month\": \"2012-09\"}, {\"year\": 2012, \"month\": 12, \"anomaly\": 1.0, \"year_month\": \"2012-12\"}, {\"year\": 2013, \"month\": 3, \"anomaly\": 1.1, \"year_month\": \"2013-03\"}, {\"year\": 2013, \"month\": 6, \"anomaly\": 1.3, \"year_month\": \"2013-06\"}, {\"year\": 2013, \"month\": 9, \"anomaly\": 1.3, \"year_month\": \"2013-09\"}, {\"year\": 2013, \"month\": 12, \"anomaly\": 1.9, \"year_month\": \"2013-12\"}, {\"year\": 2014, \"month\": 3, \"anomaly\": 0.9, \"year_month\": \"2014-03\"}, {\"year\": 2014, \"month\": 6, \"anomaly\": 1.1, \"year_month\": \"2014-06\"}, {\"year\": 2014, \"month\": 9, \"anomaly\": 1.0, \"year_month\": \"2014-09\"}, {\"year\": 2014, \"month\": 12, \"anomaly\": 1.5, \"year_month\": \"2014-12\"}, {\"year\": 2015, \"month\": 3, \"anomaly\": 2.2, \"year_month\": \"2015-03\"}, {\"year\": 2015, \"month\": 6, \"anomaly\": 0.1, \"year_month\": \"2015-06\"}, {\"year\": 2015, \"month\": 9, \"anomaly\": 2.2, \"year_month\": \"2015-09\"}, {\"year\": 2015, \"month\": 12, \"anomaly\": 1.5, \"year_month\": \"2015-12\"}, {\"year\": 2016, \"month\": 3, \"anomaly\": 2.7, \"year_month\": \"2016-03\"}, {\"year\": 2016, \"month\": 6, \"anomaly\": -0.2, \"year_month\": \"2016-06\"}, {\"year\": 2016, \"month\": 9, \"anomaly\": 1.9, \"year_month\": \"2016-09\"}, {\"year\": 2016, \"month\": 12, \"anomaly\": 2.7, \"year_month\": \"2016-12\"}, {\"year\": 2017, \"month\": 3, \"anomaly\": -0.2, \"year_month\": \"2017-03\"}, {\"year\": 2017, \"month\": 6, \"anomaly\": 0.1, \"year_month\": \"2017-06\"}, {\"year\": 2017, \"month\": 9, \"anomaly\": 1.8, \"year_month\": \"2017-09\"}, {\"year\": 2017, \"month\": 12, \"anomaly\": 0.3, \"year_month\": \"2017-12\"}, {\"year\": 2018, \"month\": 3, \"anomaly\": 0.8, \"year_month\": \"2018-03\"}, {\"year\": 2018, \"month\": 6, \"anomaly\": 0.6, \"year_month\": \"2018-06\"}, {\"year\": 2018, \"month\": 9, \"anomaly\": 2.3, \"year_month\": \"2018-09\"}, {\"year\": 2018, \"month\": 12, \"anomaly\": 1.1, \"year_month\": \"2018-12\"}, {\"year\": 2019, \"month\": 3, \"anomaly\": 0.9, \"year_month\": \"2019-03\"}, {\"year\": 2019, \"month\": 6, \"anomaly\": 0.3, \"year_month\": \"2019-06\"}, {\"year\": 2019, \"month\": 9, \"anomaly\": -0.9, \"year_month\": \"2019-09\"}, {\"year\": 2019, \"month\": 12, \"anomaly\": 2.7, \"year_month\": \"2019-12\"}, {\"year\": 2020, \"month\": 3, \"anomaly\": 0.1, \"year_month\": \"2020-03\"}, {\"year\": 2020, \"month\": 6, \"anomaly\": 0.9, \"year_month\": \"2020-06\"}, {\"year\": 2020, \"month\": 9, \"anomaly\": 2.4, \"year_month\": \"2020-09\"}, {\"year\": 2020, \"month\": 12, \"anomaly\": 1.6, \"year_month\": \"2020-12\"}, {\"year\": 2021, \"month\": 3, \"anomaly\": 0.6, \"year_month\": \"2021-03\"}, {\"year\": 2021, \"month\": 6, \"anomaly\": 0.6, \"year_month\": \"2021-06\"}, {\"year\": 2021, \"month\": 9, \"anomaly\": 0.9, \"year_month\": \"2021-09\"}, {\"year\": 2021, \"month\": 12, \"anomaly\": 0.2, \"year_month\": \"2021-12\"}, {\"year\": 2022, \"month\": 3, \"anomaly\": 1.9, \"year_month\": \"2022-03\"}, {\"year\": 2022, \"month\": 6, \"anomaly\": 1.6, \"year_month\": \"2022-06\"}, {\"year\": 2022, \"month\": 9, \"anomaly\": 1.4, \"year_month\": \"2022-09\"}, {\"year\": 2022, \"month\": 12, \"anomaly\": 2.5, \"year_month\": \"2022-12\"}, {\"year\": 2023, \"month\": 3, \"anomaly\": 0.4, \"year_month\": \"2023-03\"}, {\"year\": 2023, \"month\": 6, \"anomaly\": 2.3, \"year_month\": \"2023-06\"}, {\"year\": 2023, \"month\": 9, \"anomaly\": -0.4, \"year_month\": \"2023-09\"}, {\"year\": 2023, \"month\": 12, \"anomaly\": 0.6, \"year_month\": \"2023-12\"}, {\"year\": 2024, \"month\": 3, \"anomaly\": 1.6, \"year_month\": \"2024-03\"}, {\"year\": 2024, \"month\": 6, \"anomaly\": 3.5, \"year_month\": \"2024-06\"}, {\"year\": 2024, \"month\": 9, \"anomaly\": 2.7, \"year_month\": \"2024-09\"}, {\"year\": 2024, \"month\": 12, \"anomaly\": 2.6, \"year_month\": \"2024-12\"}]}}, {\"mode\": \"vega-lite\"});\n",
       "</script>"
      ],
      "text/plain": [
       "alt.Chart(...)"
      ]
     },
     "execution_count": 48,
     "metadata": {},
     "output_type": "execute_result"
    }
   ],
   "source": [
    "color_change = alt.datum.anomaly > 0\n",
    "\n",
    "alt.Chart(amomaly_temperature,\n",
    "title=alt.Title(\"Temperatue change over time\",\n",
    "subtitle='Temperature Anomaly (°C compared to the 1960-1991 normal')\n",
    ").mark_bar(\n",
    "    bandSize=40,\n",
    ").encode(\n",
    "    x = alt.X(\"year_month:O\", axis=alt.Axis(labelAngle=0,\n",
    "                                            labelExpr='substring(datum.value, 0, 4)',\n",
    "                                            values=['1925-03', '1935-03', '1945-03', '1955-03', '1965-03', '1975-03', '1985-03', '1995-03', '2005-03', '2015-03', '2024-03'],\n",
    "                                            labelOverlap=True, ticks=False), title=\"Year\"),\n",
    "    y =alt.Y('anomaly:Q', title=\"Temperature Anomaly (°C)\"),\n",
    "#    tooltip=['year', 'month', 'anomaly'],\n",
    "    color=alt.Color('anomaly:Q',  # Use 'value' for coloring\n",
    "                    scale=alt.Scale(scheme='redblue', domain=[10, -10])), # Legend customization\n",
    ").properties(\n",
    "    width=600,\n",
    "    height=400,\n",
    ")\n"
   ]
  },
  {
   "cell_type": "code",
   "execution_count": null,
   "metadata": {},
   "outputs": [],
   "source": []
  },
  {
   "cell_type": "code",
   "execution_count": null,
   "metadata": {},
   "outputs": [],
   "source": []
  }
 ],
 "metadata": {
  "kernelspec": {
   "display_name": "hel-8048",
   "language": "python",
   "name": "python3"
  },
  "language_info": {
   "codemirror_mode": {
    "name": "ipython",
    "version": 3
   },
   "file_extension": ".py",
   "mimetype": "text/x-python",
   "name": "python",
   "nbconvert_exporter": "python",
   "pygments_lexer": "ipython3",
   "version": "3.13.1"
  }
 },
 "nbformat": 4,
 "nbformat_minor": 2
}
