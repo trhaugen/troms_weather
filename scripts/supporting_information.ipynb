{
 "cells": [
  {
   "cell_type": "markdown",
   "metadata": {},
   "source": [
    "# What is this?\n",
    "\n",
    "This is the code I've used for additional data not shown in the main_project file. Each section will be explained and there will be comments\n",
    "showing what you will need to change to do the same. The sections are as follows;\n",
    "\n",
    "- Finding the different data stored for a specific sensor\n",
    "- Finding the municipality from lon/lat coordinates\n",
    "- Finding coordinates for a specific municipality"
   ]
  },
  {
   "cell_type": "code",
   "execution_count": 1,
   "metadata": {},
   "outputs": [],
   "source": [
    "import geopandas as gpd\n",
    "import reading_data as rd\n",
    "from shapely.geometry import Point\n"
   ]
  },
  {
   "cell_type": "code",
   "execution_count": null,
   "metadata": {},
   "outputs": [],
   "source": [
    "#Midlertidig løsning for å oppdatere reading_data\n",
    "import importlib\n",
    "importlib.reload(rd)\n"
   ]
  },
  {
   "cell_type": "code",
   "execution_count": 2,
   "metadata": {},
   "outputs": [],
   "source": [
    "client_id = '../ignore_me/client_id.txt'\n",
    "client_secret = '../ignore_me/client_secret.txt'\n"
   ]
  },
  {
   "cell_type": "markdown",
   "metadata": {},
   "source": [
    "## Finding the different data stored for a specific sensor"
   ]
  },
  {
   "cell_type": "code",
   "execution_count": 3,
   "metadata": {},
   "outputs": [
    {
     "data": {
      "text/plain": [
       "{'air_temperature',\n",
       " 'best_estimate_mean(air_temperature P1D)',\n",
       " 'best_estimate_mean(air_temperature P1M)',\n",
       " 'best_estimate_mean(air_temperature P1Y)',\n",
       " 'best_estimate_mean(air_temperature P3M)',\n",
       " 'best_estimate_mean(air_temperature_anomaly P1M 1961_1990)',\n",
       " 'best_estimate_mean(air_temperature_anomaly P1Y 1961_1990)',\n",
       " 'best_estimate_mean(air_temperature_anomaly P3M 1961_1990)',\n",
       " 'best_estimate_mean(air_temperature_anomaly P6M 1961_1990)',\n",
       " 'boolean_clear_sky_weather(cloud_area_fraction P1D)',\n",
       " 'boolean_fair_weather(cloud_area_fraction P1D)',\n",
       " 'boolean_overcast_weather(cloud_area_fraction P1D)',\n",
       " 'cloud_area_fraction',\n",
       " 'integral_of_deficit(mean(air_temperature P1D) P1D 17.0)',\n",
       " 'integral_of_deficit(mean(air_temperature P1D) P1M 17.0)',\n",
       " 'integral_of_deficit(mean(air_temperature P1D) P1Y 17.0)',\n",
       " 'integral_of_deficit(mean(air_temperature P1D) P3M 17.0)',\n",
       " 'integral_of_deficit(mean(air_temperature P1D) P6M 17.0)',\n",
       " 'integral_of_excess(mean(air_temperature P1D) P1D 0.0)',\n",
       " 'integral_of_excess(mean(air_temperature P1D) P1D 5.0)',\n",
       " 'integral_of_excess(mean(air_temperature P1D) P1M 0.0)',\n",
       " 'integral_of_excess(mean(air_temperature P1D) P1M 5.0)',\n",
       " 'max(air_temperature P1D)',\n",
       " 'max(air_temperature P1M)',\n",
       " 'max(air_temperature P1Y)',\n",
       " 'max(air_temperature P3M)',\n",
       " 'max(air_temperature P6M)',\n",
       " 'max(cloud_area_fraction P1D)',\n",
       " 'max(cloud_area_fraction P1M)',\n",
       " 'max(snow_coverage_type P1M)',\n",
       " 'max(sum(precipitation_amount P1D) P1M)',\n",
       " 'max(surface_air_pressure P1D)',\n",
       " 'max(surface_air_pressure P1M)',\n",
       " 'max(surface_snow_thickness P1M)',\n",
       " 'max(wind_speed P1D)',\n",
       " 'max(wind_speed P1M)',\n",
       " 'mean(air_temperature P1D)',\n",
       " 'mean(air_temperature P1M)',\n",
       " 'mean(air_temperature P1Y)',\n",
       " 'mean(air_temperature P3M)',\n",
       " 'mean(air_temperature P6M)',\n",
       " 'mean(air_temperature_anomaly P1M 1961_1990)',\n",
       " 'mean(air_temperature_anomaly P1M 1991_2020)',\n",
       " 'mean(air_temperature_anomaly P1Y 1961_1990)',\n",
       " 'mean(air_temperature_anomaly P1Y 1991_2020)',\n",
       " 'mean(air_temperature_anomaly P3M 1961_1990)',\n",
       " 'mean(air_temperature_anomaly P3M 1991_2020)',\n",
       " 'mean(air_temperature_anomaly P6M 1961_1990)',\n",
       " 'mean(air_temperature_anomaly P6M 1991_2020)',\n",
       " 'mean(cloud_area_fraction P1D)',\n",
       " 'mean(cloud_area_fraction P1M)',\n",
       " 'mean(cloud_area_fraction P1Y)',\n",
       " 'mean(cloud_area_fraction P3M)',\n",
       " 'mean(cloud_area_fraction P6M)',\n",
       " 'mean(max(air_temperature P1D) P1M)',\n",
       " 'mean(min(air_temperature P1D) P1M)',\n",
       " 'mean(snow_coverage_type P1M)',\n",
       " 'mean(surface_air_pressure P1D)',\n",
       " 'mean(surface_air_pressure P1M)',\n",
       " 'mean(surface_snow_thickness P1M)',\n",
       " 'mean(wind_speed P1D)',\n",
       " 'mean(wind_speed P1M)',\n",
       " 'min(air_temperature P1D)',\n",
       " 'min(air_temperature P1M)',\n",
       " 'min(air_temperature P1Y)',\n",
       " 'min(air_temperature P3M)',\n",
       " 'min(air_temperature P6M)',\n",
       " 'min(cloud_area_fraction P1D)',\n",
       " 'min(cloud_area_fraction P1M)',\n",
       " 'min(snow_coverage_type P1M)',\n",
       " 'min(surface_air_pressure P1D)',\n",
       " 'min(surface_air_pressure P1M)',\n",
       " 'min(surface_snow_thickness P1M)',\n",
       " 'min(wind_speed P1D)',\n",
       " 'min(wind_speed P1M)',\n",
       " 'number_of_days_gte(sum(precipitation_amount P1D) P1M 1.0)',\n",
       " 'over_time(sum(time_of_maximum_precipitation_amount P1D) P1M)',\n",
       " 'over_time(time_of_maximum_air_temperature P1M)',\n",
       " 'over_time(time_of_minimum_air_temperature P1M)',\n",
       " 'over_time(weather_cloud_symbol PT6H)',\n",
       " 'snow_coverage_type',\n",
       " 'sum(boolean_clear_sky_weather(cloud_area_fraction P1D) P1M)',\n",
       " 'sum(boolean_fair_weather(cloud_area_fraction P1D) P1M)',\n",
       " 'sum(boolean_overcast_weather(cloud_area_fraction P1D) P1M)',\n",
       " 'sum(precipitation_amount P1D)',\n",
       " 'sum(precipitation_amount P1M)',\n",
       " 'sum(precipitation_amount P1Y)',\n",
       " 'sum(precipitation_amount P3M)',\n",
       " 'sum(precipitation_amount P6M)',\n",
       " 'sum(precipitation_amount PT12H)',\n",
       " 'sum(precipitation_amount_anomaly P1M 1961_1990)',\n",
       " 'sum(precipitation_amount_anomaly P1M 1991_2020)',\n",
       " 'sum(precipitation_amount_anomaly P1Y 1961_1990)',\n",
       " 'sum(precipitation_amount_anomaly P1Y 1991_2020)',\n",
       " 'sum(precipitation_amount_anomaly P3M 1961_1990)',\n",
       " 'sum(precipitation_amount_anomaly P3M 1991_2020)',\n",
       " 'sum(precipitation_amount_anomaly P6M 1961_1990)',\n",
       " 'sum(precipitation_amount_anomaly P6M 1991_2020)',\n",
       " 'surface_air_pressure',\n",
       " 'surface_snow_thickness',\n",
       " 'wind_from_direction',\n",
       " 'wind_speed'}"
      ]
     },
     "execution_count": 3,
     "metadata": {},
     "output_type": "execute_result"
    }
   ],
   "source": [
    "vervarslinga = rd.ReadingData('SN90450', client_id, client_secret)\n",
    "vervarslinga.get_station_datatypes('1925')\n"
   ]
  },
  {
   "cell_type": "markdown",
   "metadata": {},
   "source": [
    "## Finding the municipality from lon/lat coordinates"
   ]
  },
  {
   "cell_type": "code",
   "execution_count": 4,
   "metadata": {},
   "outputs": [],
   "source": [
    "def get_municipality(geojson_path: str, lat: float, lon: float) -> str:\n",
    "    \"\"\"\n",
    "    Given a coordinate (lat, lon), return the municipality name it falls within.\n",
    "\n",
    "    Args:\n",
    "        geojson_path (str): Path to GeoJSON file containing municipality boundaries.\n",
    "        lat (float): Latitude of the coordinate.\n",
    "        lon (float): Longitude of the coordinate.\n",
    "    \n",
    "    Returns:\n",
    "        str: Name of the municipality containing the coordinate\n",
    "    \"\"\"\n",
    "    # Load GeoJSON file\n",
    "    gdf = gpd.read_file(geojson_path)\n",
    "\n",
    "    # Ensure CRS is in a common format (WGS 84)\n",
    "    if gdf.crs is None:\n",
    "        gdf.set_crs(epsg=4326, inplace=True)\n",
    "    elif gdf.crs.to_epsg() != 4326:\n",
    "        gdf = gdf.to_crs(epsg=4326)\n",
    "\n",
    "    # Create a point from given coordinates\n",
    "    point = Point(lon, lat)\n",
    "\n",
    "    # Find the municipality that contains the point\n",
    "    municipality = gdf[gdf.contains(point)]\n",
    "\n",
    "    if not municipality.empty:\n",
    "        return municipality.iloc[0]['name']  # Adjust column name if needed\n",
    "    return \"Please choose coordinates wihin Norway\"\n"
   ]
  },
  {
   "cell_type": "code",
   "execution_count": 5,
   "metadata": {},
   "outputs": [
    {
     "data": {
      "text/plain": [
       "'Tromsø'"
      ]
     },
     "execution_count": 5,
     "metadata": {},
     "output_type": "execute_result"
    }
   ],
   "source": [
    "get_municipality('../test_files/Kommuner-L.geojson', 69.95, 18.95)\n"
   ]
  },
  {
   "cell_type": "code",
   "execution_count": 6,
   "metadata": {},
   "outputs": [
    {
     "data": {
      "text/plain": [
       "'Please choose coordinates wihin Norway'"
      ]
     },
     "execution_count": 6,
     "metadata": {},
     "output_type": "execute_result"
    }
   ],
   "source": [
    "get_municipality('../test_files/Kommuner-L.geojson', 0, 0)\n"
   ]
  },
  {
   "cell_type": "markdown",
   "metadata": {},
   "source": [
    "## Finding coordinates for a specific municipality"
   ]
  },
  {
   "cell_type": "code",
   "execution_count": 7,
   "metadata": {},
   "outputs": [],
   "source": [
    "def get_municipality_center(geojson_path: str, municipality_name: str) -> tuple:\n",
    "    \"\"\"\n",
    "    Get the central coordinate (latitude, longitude) of a given municipality.\n",
    "\n",
    "    :param geojson_path: Path to the GeoJSON file containing municipality boundaries.\n",
    "    :param municipality_name: The name of the municipality.\n",
    "    :return: (lat, lon) tuple of the central coordinate or None if not found.\n",
    "    \"\"\"\n",
    "    # Load GeoJSON file\n",
    "    gdf = gpd.read_file(geojson_path)\n",
    "\n",
    "    # Find the municipality\n",
    "    municipality = gdf[gdf['name'] == municipality_name]  # Adjust column name if needed\n",
    "\n",
    "    if not municipality.empty:\n",
    "        projected_gdf = municipality.to_crs(epsg=25833)\n",
    "        centroid = projected_gdf.geometry.centroid.iloc[0]# Ensure CRS is in a common format (WGS 84)\n",
    "        centroid_wgs84 = gpd.GeoSeries([centroid], crs=projected_gdf.crs).to_crs(epsg=4326).iloc[0]\n",
    "        return (centroid_wgs84.y, centroid_wgs84.x)\n",
    "    return None\n"
   ]
  },
  {
   "cell_type": "code",
   "execution_count": 8,
   "metadata": {},
   "outputs": [
    {
     "data": {
      "text/plain": [
       "(59.981077776463806, 10.739521598125112)"
      ]
     },
     "execution_count": 8,
     "metadata": {},
     "output_type": "execute_result"
    }
   ],
   "source": [
    "get_municipality_center('../test_files/Kommuner-L.geojson', 'Oslo')\n"
   ]
  },
  {
   "cell_type": "code",
   "execution_count": null,
   "metadata": {},
   "outputs": [],
   "source": []
  }
 ],
 "metadata": {
  "kernelspec": {
   "display_name": "hel-8048",
   "language": "python",
   "name": "python3"
  },
  "language_info": {
   "codemirror_mode": {
    "name": "ipython",
    "version": 3
   },
   "file_extension": ".py",
   "mimetype": "text/x-python",
   "name": "python",
   "nbconvert_exporter": "python",
   "pygments_lexer": "ipython3",
   "version": "3.13.1"
  }
 },
 "nbformat": 4,
 "nbformat_minor": 2
}
