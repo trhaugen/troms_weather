{
 "cells": [
  {
   "cell_type": "markdown",
   "metadata": {},
   "source": [
    "# What is this?\n",
    "\n",
    "This is for checking certain data or for other calculations that will not make \n",
    "sense to include in the main_project file, but can still add some information to \n",
    "the project itself. If referenced in the main_project file, it will correspond to\n",
    "the number given in this file. "
   ]
  },
  {
   "cell_type": "code",
   "execution_count": 16,
   "metadata": {},
   "outputs": [],
   "source": [
    "import pandas as pd \n",
    "import geopandas as gpd\n",
    "import numpy as np\n",
    "import matplotlib.pyplot as plt\n",
    "import matplotlib.dates as mdates\n",
    "import altair as alt \n",
    "import reading_data as rd\n"
   ]
  },
  {
   "cell_type": "code",
   "execution_count": 17,
   "metadata": {},
   "outputs": [
    {
     "data": {
      "text/plain": [
       "<module 'reading_data' from '/Users/tha222/git-folder/troms_weather/scripts/reading_data.py'>"
      ]
     },
     "execution_count": 17,
     "metadata": {},
     "output_type": "execute_result"
    }
   ],
   "source": [
    "#Midlertidig løsning for å oppdatere reading_data\n",
    "import importlib\n",
    "importlib.reload(rd)\n"
   ]
  },
  {
   "cell_type": "code",
   "execution_count": 18,
   "metadata": {},
   "outputs": [],
   "source": [
    "client_id = '../ignore_me/client_id.txt'\n",
    "client_secret = '../ignore_me/client_secret.txt'\n"
   ]
  },
  {
   "cell_type": "code",
   "execution_count": 19,
   "metadata": {},
   "outputs": [
    {
     "data": {
      "text/plain": [
       "{'air_temperature',\n",
       " 'best_estimate_mean(air_temperature P1D)',\n",
       " 'best_estimate_mean(air_temperature P1M)',\n",
       " 'best_estimate_mean(air_temperature P1Y)',\n",
       " 'best_estimate_mean(air_temperature P3M)',\n",
       " 'best_estimate_mean(air_temperature_anomaly P1M 1961_1990)',\n",
       " 'best_estimate_mean(air_temperature_anomaly P1Y 1961_1990)',\n",
       " 'best_estimate_mean(air_temperature_anomaly P3M 1961_1990)',\n",
       " 'best_estimate_mean(air_temperature_anomaly P6M 1961_1990)',\n",
       " 'boolean_clear_sky_weather(cloud_area_fraction P1D)',\n",
       " 'boolean_fair_weather(cloud_area_fraction P1D)',\n",
       " 'boolean_overcast_weather(cloud_area_fraction P1D)',\n",
       " 'cloud_area_fraction',\n",
       " 'integral_of_deficit(mean(air_temperature P1D) P1D 17.0)',\n",
       " 'integral_of_deficit(mean(air_temperature P1D) P1M 17.0)',\n",
       " 'integral_of_deficit(mean(air_temperature P1D) P1Y 17.0)',\n",
       " 'integral_of_deficit(mean(air_temperature P1D) P3M 17.0)',\n",
       " 'integral_of_deficit(mean(air_temperature P1D) P6M 17.0)',\n",
       " 'integral_of_excess(mean(air_temperature P1D) P1D 0.0)',\n",
       " 'integral_of_excess(mean(air_temperature P1D) P1D 5.0)',\n",
       " 'integral_of_excess(mean(air_temperature P1D) P1M 0.0)',\n",
       " 'integral_of_excess(mean(air_temperature P1D) P1M 5.0)',\n",
       " 'max(air_temperature P1D)',\n",
       " 'max(air_temperature P1M)',\n",
       " 'max(air_temperature P1Y)',\n",
       " 'max(air_temperature P3M)',\n",
       " 'max(air_temperature P6M)',\n",
       " 'max(cloud_area_fraction P1D)',\n",
       " 'max(cloud_area_fraction P1M)',\n",
       " 'max(snow_coverage_type P1M)',\n",
       " 'max(sum(precipitation_amount P1D) P1M)',\n",
       " 'max(surface_air_pressure P1D)',\n",
       " 'max(surface_air_pressure P1M)',\n",
       " 'max(surface_snow_thickness P1M)',\n",
       " 'max(wind_speed P1D)',\n",
       " 'max(wind_speed P1M)',\n",
       " 'mean(air_temperature P1D)',\n",
       " 'mean(air_temperature P1M)',\n",
       " 'mean(air_temperature P1Y)',\n",
       " 'mean(air_temperature P3M)',\n",
       " 'mean(air_temperature P6M)',\n",
       " 'mean(air_temperature_anomaly P1M 1961_1990)',\n",
       " 'mean(air_temperature_anomaly P1M 1991_2020)',\n",
       " 'mean(air_temperature_anomaly P1Y 1961_1990)',\n",
       " 'mean(air_temperature_anomaly P1Y 1991_2020)',\n",
       " 'mean(air_temperature_anomaly P3M 1961_1990)',\n",
       " 'mean(air_temperature_anomaly P3M 1991_2020)',\n",
       " 'mean(air_temperature_anomaly P6M 1961_1990)',\n",
       " 'mean(air_temperature_anomaly P6M 1991_2020)',\n",
       " 'mean(cloud_area_fraction P1D)',\n",
       " 'mean(cloud_area_fraction P1M)',\n",
       " 'mean(cloud_area_fraction P1Y)',\n",
       " 'mean(cloud_area_fraction P3M)',\n",
       " 'mean(cloud_area_fraction P6M)',\n",
       " 'mean(max(air_temperature P1D) P1M)',\n",
       " 'mean(min(air_temperature P1D) P1M)',\n",
       " 'mean(snow_coverage_type P1M)',\n",
       " 'mean(surface_air_pressure P1D)',\n",
       " 'mean(surface_air_pressure P1M)',\n",
       " 'mean(surface_snow_thickness P1M)',\n",
       " 'mean(wind_speed P1D)',\n",
       " 'mean(wind_speed P1M)',\n",
       " 'min(air_temperature P1D)',\n",
       " 'min(air_temperature P1M)',\n",
       " 'min(air_temperature P1Y)',\n",
       " 'min(air_temperature P3M)',\n",
       " 'min(air_temperature P6M)',\n",
       " 'min(cloud_area_fraction P1D)',\n",
       " 'min(cloud_area_fraction P1M)',\n",
       " 'min(snow_coverage_type P1M)',\n",
       " 'min(surface_air_pressure P1D)',\n",
       " 'min(surface_air_pressure P1M)',\n",
       " 'min(surface_snow_thickness P1M)',\n",
       " 'min(wind_speed P1D)',\n",
       " 'min(wind_speed P1M)',\n",
       " 'number_of_days_gte(sum(precipitation_amount P1D) P1M 1.0)',\n",
       " 'over_time(sum(time_of_maximum_precipitation_amount P1D) P1M)',\n",
       " 'over_time(time_of_maximum_air_temperature P1M)',\n",
       " 'over_time(time_of_minimum_air_temperature P1M)',\n",
       " 'over_time(weather_cloud_symbol PT6H)',\n",
       " 'snow_coverage_type',\n",
       " 'sum(boolean_clear_sky_weather(cloud_area_fraction P1D) P1M)',\n",
       " 'sum(boolean_fair_weather(cloud_area_fraction P1D) P1M)',\n",
       " 'sum(boolean_overcast_weather(cloud_area_fraction P1D) P1M)',\n",
       " 'sum(precipitation_amount P1D)',\n",
       " 'sum(precipitation_amount P1M)',\n",
       " 'sum(precipitation_amount P1Y)',\n",
       " 'sum(precipitation_amount P3M)',\n",
       " 'sum(precipitation_amount P6M)',\n",
       " 'sum(precipitation_amount PT12H)',\n",
       " 'sum(precipitation_amount_anomaly P1M 1961_1990)',\n",
       " 'sum(precipitation_amount_anomaly P1M 1991_2020)',\n",
       " 'sum(precipitation_amount_anomaly P1Y 1961_1990)',\n",
       " 'sum(precipitation_amount_anomaly P1Y 1991_2020)',\n",
       " 'sum(precipitation_amount_anomaly P3M 1961_1990)',\n",
       " 'sum(precipitation_amount_anomaly P3M 1991_2020)',\n",
       " 'sum(precipitation_amount_anomaly P6M 1961_1990)',\n",
       " 'sum(precipitation_amount_anomaly P6M 1991_2020)',\n",
       " 'surface_air_pressure',\n",
       " 'surface_snow_thickness',\n",
       " 'wind_from_direction',\n",
       " 'wind_speed'}"
      ]
     },
     "execution_count": 19,
     "metadata": {},
     "output_type": "execute_result"
    }
   ],
   "source": [
    "vervarslinga = rd.ReadingData('SN90450', client_id, client_secret)\n",
    "vervarslinga.get_station_datatypes('1925')\n"
   ]
  },
  {
   "cell_type": "code",
   "execution_count": null,
   "metadata": {},
   "outputs": [],
   "source": []
  }
 ],
 "metadata": {
  "kernelspec": {
   "display_name": "hel-8048",
   "language": "python",
   "name": "python3"
  },
  "language_info": {
   "codemirror_mode": {
    "name": "ipython",
    "version": 3
   },
   "file_extension": ".py",
   "mimetype": "text/x-python",
   "name": "python",
   "nbconvert_exporter": "python",
   "pygments_lexer": "ipython3",
   "version": "3.13.1"
  }
 },
 "nbformat": 4,
 "nbformat_minor": 2
}
